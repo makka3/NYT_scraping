{
 "cells": [
  {
   "cell_type": "code",
   "execution_count": 37,
   "metadata": {},
   "outputs": [],
   "source": [
    "import pandas as pd\n",
    "import numpy as np\n",
    "import requests\n",
    "from bs4 import BeautifulSoup\n",
    "import time\n",
    "import re"
   ]
  },
  {
   "cell_type": "code",
   "execution_count": 3,
   "metadata": {},
   "outputs": [],
   "source": [
    "request = requests.get(\"https://www.newyorktimes.com\")"
   ]
  },
  {
   "cell_type": "code",
   "execution_count": 4,
   "metadata": {},
   "outputs": [
    {
     "data": {
      "text/plain": [
       "200"
      ]
     },
     "execution_count": 4,
     "metadata": {},
     "output_type": "execute_result"
    }
   ],
   "source": [
    "request.status_code"
   ]
  },
  {
   "cell_type": "code",
   "execution_count": 5,
   "metadata": {},
   "outputs": [
    {
     "data": {
      "text/plain": [
       "{'Connection': 'close', 'Content-Length': '131525', 'Server': 'nginx', 'Content-Type': 'text/html; charset=utf-8', 'Cache-Control': 'no-cache', 'x-nyt-data-last-modified': 'Tue, 03 Sep 2019 13:53:43 GMT', 'Last-Modified': 'Tue, 03 Sep 2019 13:53:43 GMT', 'X-PageType': 'vi-homepage', 'X-VI-Compatibility': 'Compatible', 'X-XSS-Protection': '1; mode=block', 'X-Content-Type-Options': 'nosniff', 'Content-Encoding': 'gzip', 'x-nyt-route': 'homepage', 'X-Origin-Time': '2019-09-03 13:54:58 UTC', 'Accept-Ranges': 'bytes', 'Date': 'Tue, 03 Sep 2019 14:00:41 GMT', 'Age': '128', 'X-Served-By': 'cache-jfk8124-JFK, cache-mxp19827-MXP', 'X-Cache': 'HIT, HIT', 'X-Cache-Hits': '7, 1', 'X-Timer': 'S1567519242.753815,VS0,VE3', 'Vary': 'Accept-Encoding, Fastly-SSL', 'Set-Cookie': 'nyt-a=ZM7f6kbNpQ5T6Qqh-lRwot; Expires=Wed, 02 Sep 2020 14:00:41 GMT; Path=/; Domain=.nytimes.com, nyt-gdpr=0; Expires=Tue, 03 Sep 2019 20:00:41 GMT; Path=/; Domain=.nytimes.com, nyt-purr=cfh; Expires=Wed, 02 Sep 2020 14:00:41 GMT; Path=/; Domain=.nytimes.com, nyt-geo=LB; Expires=Tue, 03 Sep 2019 20:00:41 GMT; Path=/; Domain=.nytimes.com', 'x-gdpr': '0', 'X-Frame-Options': 'DENY', 'X-API-Version': 'F-F-VI', 'Content-Security-Policy': \"default-src data: 'unsafe-inline' 'unsafe-eval' https:; script-src data: 'unsafe-inline' 'unsafe-eval' https: blob:; style-src data: 'unsafe-inline' https:; img-src data: https: blob:; font-src data: https:; connect-src https: wss: blob:; media-src https: blob:; object-src https:; child-src https: data: blob:; form-action https:; block-all-mixed-content;\"}"
      ]
     },
     "execution_count": 5,
     "metadata": {},
     "output_type": "execute_result"
    }
   ],
   "source": [
    "request.headers"
   ]
  },
  {
   "cell_type": "code",
   "execution_count": 7,
   "metadata": {},
   "outputs": [],
   "source": [
    "front_page = BeautifulSoup(request.text,'lxml')"
   ]
  },
  {
   "cell_type": "code",
   "execution_count": 9,
   "metadata": {},
   "outputs": [
    {
     "data": {
      "text/plain": [
       "[<h2 class=\"css-km70tz esl82me0\">Listen to ‘The Daily’</h2>,\n",
       " <h2 class=\"css-km70tz esl82me0\">Listen: 1619 Podcast</h2>,\n",
       " <h2 class=\"css-km70tz esl82me0\">Watch ‘The Weekly’</h2>,\n",
       " <h2 class=\"css-1qwxefa esl82me0\"><span>Hurricane Dorian Pounds Bahamas and Threatens Florida</span></h2>,\n",
       " <h2 class=\"css-n2blzn esl82me0\">The Abaco Islands, sparsely populated by fishermen, laborers and migrants from Haiti, felt the storm’s pain.</h2>,\n",
       " <h2 class=\"css-n2blzn esl82me0\">President Trump’s hurricane-related tweets were delivered with the speed of a hailstorm.</h2>,\n",
       " <h2 class=\"css-1qwxefa esl82me0\"><span>U.K. Parliament Braces for a Brexit Showdown</span></h2>,\n",
       " <h2 class=\"css-n2blzn esl82me0\">Here’s what to know as the prime minister and lawmakers face off.</h2>,\n",
       " <h2 class=\"css-n2blzn esl82me0\">For Europe, the threat of Britain leaving the bloc without a deal comes at a bad time.</h2>,\n",
       " <h2 class=\"css-1qwxefa esl82me0\"><span>Will Trumpism Take Deeper Root in New Hampshire?</span></h2>,\n",
       " <h2 class=\"css-1qwxefa esl82me0\"><span>She Protests Hong Kong Police Officers, and Is Married to One</span></h2>,\n",
       " <h2 class=\"css-1qwxefa esl82me0\"><span>Jeffrey Epstein’s New York Hunting Ground: Dance Studios</span></h2>,\n",
       " <h2 class=\"css-14bttnj esl82me0\"><span>Linda Hamilton Fled Hollywood, but ‘Terminator’ Still Found Her</span></h2>,\n",
       " <h2 class=\"css-o2lisy esl82me0\">Putin’s Nightmare: The Ballot Box</h2>,\n",
       " <h2 class=\"css-1m5bs2v esl82me0\">Dogs Are Not Here for Our Convenience</h2>,\n",
       " <h2 class=\"css-1m5bs2v esl82me0\">Why Has Trump’s Exceptional Corruption Gone Unchecked?</h2>,\n",
       " <h2 class=\"css-1m5bs2v esl82me0\">When Elizabeth Warren Agreed With Betsy DeVos</h2>,\n",
       " <h2 class=\"css-1m5bs2v esl82me0\">The Great Tax Break Heist</h2>,\n",
       " <h2 class=\"css-1m5bs2v esl82me0\">Hurricanes Are Getting Worse</h2>,\n",
       " <h2 class=\"css-1m5bs2v esl82me0\">Those Hurricane Maps Don’t Mean What You Think They Mean</h2>,\n",
       " <h2 class=\"css-1m5bs2v esl82me0\">Can Anyone Hold the Global Economy Together?</h2>,\n",
       " <h2 class=\"css-1m5bs2v esl82me0\">Why Is America’s Largest School System Still Segregated?</h2>,\n",
       " <h2 class=\"css-1m5bs2v esl82me0\">Should Work Be Passion, or Duty?</h2>,\n",
       " <h2 class=\"css-1m5bs2v esl82me0\">A Change Is Gonna Come</h2>,\n",
       " <h2 class=\"css-14bttnj esl82me0\"><span>Life Is Imitating Stephen King’s Art, and That Scares Him</span></h2>,\n",
       " <h2 class=\"css-n2blzn esl82me0\">Daniil Medvedev Rides a Wave of Hostility at the U.S. Open</h2>,\n",
       " <h2 class=\"css-n2blzn esl82me0\">The Murky World of Olive Oil</h2>,\n",
       " <h2 class=\"css-vz7hjd\" id=\"site-index-label\">Site Index</h2>,\n",
       " <h2 class=\"css-vz7hjd\">Site Information Navigation</h2>]"
      ]
     },
     "execution_count": 9,
     "metadata": {},
     "output_type": "execute_result"
    }
   ],
   "source": [
    "front_page.find_all('h2')"
   ]
  },
  {
   "cell_type": "code",
   "execution_count": 31,
   "metadata": {},
   "outputs": [
    {
     "name": "stdout",
     "output_type": "stream",
     "text": [
      "Hurricane Dorian Pounds Bahamas and Threatens Florida\n",
      "The Abaco Islands, sparsely populated by fishermen, laborers and migrants from Haiti, felt the storm’s pain.\n",
      "President Trump’s hurricane-related tweets were delivered with the speed of a hailstorm.\n",
      "U.K. Parliament Braces for a Brexit Showdown\n",
      "Here’s what to know as the prime minister and lawmakers face off.\n",
      "For Europe, the threat of Britain leaving the bloc without a deal comes at a bad time.\n",
      "Will Trumpism Take Deeper Root in New Hampshire?\n",
      "She Protests Hong Kong Police Officers, and Is Married to One\n",
      "Jeffrey Epstein’s New York Hunting Ground: Dance Studios\n",
      "Linda Hamilton Fled Hollywood, but ‘Terminator’ Still Found Her\n",
      "Putin’s Nightmare: The Ballot Box\n",
      "Dogs Are Not Here for Our Convenience\n",
      "Why Has Trump’s Exceptional Corruption Gone Unchecked?\n",
      "When Elizabeth Warren Agreed With Betsy DeVos\n",
      "The Great Tax Break Heist\n",
      "Hurricanes Are Getting Worse\n",
      "Those Hurricane Maps Don’t Mean What You Think They Mean\n",
      "Can Anyone Hold the Global Economy Together?\n",
      "Why Is America’s Largest School System Still Segregated?\n",
      "Should Work Be Passion, or Duty?\n",
      "A Change Is Gonna Come\n",
      "Life Is Imitating Stephen King’s Art, and That Scares Him\n",
      "Daniil Medvedev Rides a Wave of Hostility at the U.S. Open\n",
      "The Murky World of Olive Oil\n"
     ]
    }
   ],
   "source": [
    "for i,entry in enumerate(front_page.find_all('h2')):\n",
    "    if \"css-km70tz\" not in entry.attrs['class'] and \"css-vz7hjd\" not in entry.attrs['class']:\n",
    "        print(entry.text)"
   ]
  }
 ],
 "metadata": {
  "kernelspec": {
   "display_name": "Python 3",
   "language": "python",
   "name": "python3"
  },
  "language_info": {
   "codemirror_mode": {
    "name": "ipython",
    "version": 3
   },
   "file_extension": ".py",
   "mimetype": "text/x-python",
   "name": "python",
   "nbconvert_exporter": "python",
   "pygments_lexer": "ipython3",
   "version": "3.6.7"
  }
 },
 "nbformat": 4,
 "nbformat_minor": 2
}
